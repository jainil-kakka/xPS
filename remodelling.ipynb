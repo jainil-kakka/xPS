{
 "cells": [
  {
   "cell_type": "code",
   "execution_count": 6,
   "id": "initial_id",
   "metadata": {
    "collapsed": true,
    "ExecuteTime": {
     "end_time": "2024-09-06T20:03:43.435144200Z",
     "start_time": "2024-09-06T20:03:43.417083700Z"
    }
   },
   "outputs": [],
   "source": [
    "import pandas as pd\n",
    "import numpy as np"
   ]
  },
  {
   "cell_type": "code",
   "execution_count": 7,
   "outputs": [],
   "source": [
    "# Define the path to your JSON file\n",
    "csv_file_path = 'project_360_demo_remodeled.csv'"
   ],
   "metadata": {
    "collapsed": false,
    "ExecuteTime": {
     "end_time": "2024-09-06T20:03:43.782957Z",
     "start_time": "2024-09-06T20:03:43.767952600Z"
    }
   },
   "id": "b93285f7b2972198"
  },
  {
   "cell_type": "code",
   "execution_count": 8,
   "outputs": [
    {
     "name": "stderr",
     "output_type": "stream",
     "text": [
      "C:\\Users\\kakka\\AppData\\Local\\Temp\\ipykernel_34216\\1172092947.py:2: DtypeWarning: Columns (28,29,59,61) have mixed types. Specify dtype option on import or set low_memory=False.\n",
      "  df_sample = pd.read_csv(csv_file_path)\n"
     ]
    }
   ],
   "source": [
    "# Read the sample data into a DataFrame\n",
    "df_sample = pd.read_csv(csv_file_path)"
   ],
   "metadata": {
    "collapsed": false,
    "ExecuteTime": {
     "end_time": "2024-09-06T20:03:49.396959100Z",
     "start_time": "2024-09-06T20:03:44.111733800Z"
    }
   },
   "id": "5316550092a6db37"
  },
  {
   "cell_type": "code",
   "execution_count": 9,
   "outputs": [
    {
     "data": {
      "text/plain": "(517211, 62)"
     },
     "execution_count": 9,
     "metadata": {},
     "output_type": "execute_result"
    }
   ],
   "source": [
    "df_sample.shape"
   ],
   "metadata": {
    "collapsed": false,
    "ExecuteTime": {
     "end_time": "2024-09-06T20:03:49.517323400Z",
     "start_time": "2024-09-06T20:03:49.413047200Z"
    }
   },
   "id": "37e961cfc06c22e0"
  },
  {
   "cell_type": "code",
   "execution_count": 10,
   "outputs": [
    {
     "name": "stdout",
     "output_type": "stream",
     "text": [
      "Loaded 517211 event IDs from project_360_pass_list.json.\n",
      "MongoDB connection successful.\n",
      "Starting query of 517211 event IDs in 6 batches.\n",
      "Completed batch 1 of 6.\n",
      "Completed batch 2 of 6.\n",
      "Completed batch 3 of 6.\n",
      "Completed batch 4 of 6.\n",
      "Completed batch 5 of 6.\n",
      "Completed batch 6 of 6.\n",
      "Query completed.\n",
      "Results saved to data_360.json.\n"
     ]
    }
   ],
   "source": [
    "import pymongo\n",
    "import json\n",
    "import sys\n",
    "\n",
    "# Define your MongoDB connection parameters\n",
    "host = \"mongodb://localhost:27017\"\n",
    "database_name = \"project_360_demo\"\n",
    "\n",
    "def mongo_connection(database_name, host):\n",
    "    \"\"\"Establishes a connection to MongoDB.\"\"\"\n",
    "    try:\n",
    "        client = pymongo.MongoClient(host)\n",
    "        db = client[database_name]  # Connects to the specified database\n",
    "        print(\"MongoDB connection successful.\")\n",
    "        return db\n",
    "    except Exception as e:\n",
    "        print(f\"Error connecting to MongoDB: {e}\")\n",
    "        return None\n",
    "\n",
    "def load_event_ids(json_file):\n",
    "    \"\"\"Loads a list of event_ids from a JSON file.\"\"\"\n",
    "    try:\n",
    "        with open(json_file, 'r') as file:\n",
    "            data = json.load(file)\n",
    "            event_ids = [item['id'] for item in data]  # Extract ids from the list of dictionaries\n",
    "        print(f\"Loaded {len(event_ids)} event IDs from {json_file}.\")\n",
    "        return event_ids\n",
    "    except Exception as e:\n",
    "        print(f\"Error loading JSON file: {e}\")\n",
    "        return []\n",
    "\n",
    "def query_events_in_batches(db, event_ids, batch_size=100000):\n",
    "    \"\"\"Queries MongoDB for documents in batches of event_ids.\"\"\"\n",
    "    if db is None:\n",
    "        print(\"Database connection is not established.\")\n",
    "        return []\n",
    "\n",
    "    collection = db['three-sixty']\n",
    "    all_results = []\n",
    "    total_batches = (len(event_ids) + batch_size - 1) // batch_size\n",
    "\n",
    "    print(f\"Starting query of {len(event_ids)} event IDs in {total_batches} batches.\")\n",
    "\n",
    "    for batch_num, i in enumerate(range(0, len(event_ids), batch_size), start=1):\n",
    "        batch = event_ids[i:i + batch_size]\n",
    "        try:\n",
    "            cursor = collection.find({\"event_uuid\": {\"$in\": batch}})\n",
    "            batch_results = list(cursor)  # Collect results from each batch\n",
    "            all_results.extend(batch_results)\n",
    "            print(f\"Completed batch {batch_num} of {total_batches}.\")\n",
    "        except Exception as e:\n",
    "            print(f\"Error querying MongoDB in batch {batch_num}: {e}\")\n",
    "    \n",
    "    print(\"Query completed.\")\n",
    "    return all_results\n",
    "\n",
    "def save_results_to_json(results, output_file):\n",
    "    \"\"\"Saves the query results to a JSON file.\"\"\"\n",
    "    try:\n",
    "        with open(output_file, 'w') as file:\n",
    "            json.dump(results, file, default=str)  # default=str to handle non-serializable types\n",
    "        print(f\"Results saved to {output_file}.\")\n",
    "    except Exception as e:\n",
    "        print(f\"Error saving results to JSON file: {e}\")\n",
    "\n",
    "def main():\n",
    "    # Load the event_ids from the JSON file\n",
    "    event_ids = load_event_ids('project_360_pass_list.json')\n",
    "    \n",
    "    if not event_ids:\n",
    "        print(\"No event IDs to process. Exiting.\")\n",
    "        sys.exit(1)\n",
    "    \n",
    "    # Establish connection to MongoDB\n",
    "    db = mongo_connection(database_name, host)\n",
    "    \n",
    "    # Query the MongoDB collection in batches\n",
    "    results = query_events_in_batches(db, event_ids)\n",
    "    \n",
    "    # Save the results to a JSON file\n",
    "    save_results_to_json(results, 'data_360.json')\n",
    "\n",
    "if __name__ == \"__main__\":\n",
    "    main()\n"
   ],
   "metadata": {
    "collapsed": false,
    "ExecuteTime": {
     "end_time": "2024-09-06T20:04:11.750696700Z",
     "start_time": "2024-09-06T20:03:49.441049800Z"
    }
   },
   "id": "9ed8c339ac762b5"
  },
  {
   "cell_type": "code",
   "execution_count": 11,
   "outputs": [
    {
     "data": {
      "text/plain": "(38745, 5)"
     },
     "execution_count": 11,
     "metadata": {},
     "output_type": "execute_result"
    }
   ],
   "source": [
    "import pandas as pd\n",
    "df = pd.read_json('data_360.json')\n",
    "df.shape"
   ],
   "metadata": {
    "collapsed": false,
    "ExecuteTime": {
     "end_time": "2024-09-06T20:04:13.544317900Z",
     "start_time": "2024-09-06T20:04:11.753702900Z"
    }
   },
   "id": "d58247201f753330"
  },
  {
   "cell_type": "code",
   "execution_count": 12,
   "outputs": [
    {
     "data": {
      "text/plain": "(38745, 5)"
     },
     "execution_count": 12,
     "metadata": {},
     "output_type": "execute_result"
    }
   ],
   "source": [
    "df.shape"
   ],
   "metadata": {
    "collapsed": false,
    "ExecuteTime": {
     "end_time": "2024-09-06T20:04:13.561323500Z",
     "start_time": "2024-09-06T20:04:13.548318Z"
    }
   },
   "id": "7ac6b3dadc6d17f6"
  },
  {
   "cell_type": "code",
   "execution_count": 13,
   "outputs": [
    {
     "name": "stderr",
     "output_type": "stream",
     "text": [
      "C:\\Users\\kakka\\AppData\\Local\\Temp\\ipykernel_34216\\1526996059.py:1: DtypeWarning: Columns (28,29,59,61) have mixed types. Specify dtype option on import or set low_memory=False.\n",
      "  event_df = pd.read_csv('project_360_demo_remodeled.csv')\n"
     ]
    },
    {
     "data": {
      "text/plain": "                        _id                                    id  index  \\\n0  66ba38692d4a508f96672224  7fd797d5-530c-4e27-bac7-8fa097c95abc     28   \n1  66ba38692d4a508f96672228  76ebbb25-3467-413b-8497-f3e38f998e57     32   \n2  66ba38692d4a508f9667223d  cd460252-ecf1-4f5e-a65e-f2919175a0f2     53   \n3  66ba38692d4a508f9667224e  7a9e0311-6936-4f6d-aa56-90c0e6ff7b58     70   \n4  66ba38692d4a508f96672258  c970a836-e82c-4702-963a-b53ee7e29864     80   \n\n   period     timestamp  minute  second  type.id type.name  possession  ...  \\\n0       1  00:00:16.035       0      16       30      Pass           2  ...   \n1       1  00:00:17.549       0      17       30      Pass           2  ...   \n2       1  00:00:41.641       0      41       30      Pass           3  ...   \n3       1  00:00:58.628       0      58       30      Pass           3  ...   \n4       1  00:01:05.668       1       5       30      Pass           4  ...   \n\n   pass.through_ball pass.technique.id  pass.technique.name counterpress  \\\n0                NaN               NaN                  NaN          NaN   \n1                NaN               NaN                  NaN          NaN   \n2                NaN               NaN                  NaN          NaN   \n3                NaN               NaN                  NaN          NaN   \n4                NaN               NaN                  NaN          NaN   \n\n   pass.cut_back pass.no_touch  pass.miscommunication  out  off_camera  \\\n0            NaN           NaN                    NaN  NaN         NaN   \n1            NaN           NaN                    NaN  NaN         NaN   \n2            NaN           NaN                    NaN  NaN         NaN   \n3            NaN           NaN                    NaN  NaN         NaN   \n4            NaN           NaN                    NaN  NaN         NaN   \n\n  pass.backheel  \n0           NaN  \n1           NaN  \n2           NaN  \n3           NaN  \n4           NaN  \n\n[5 rows x 62 columns]",
      "text/html": "<div>\n<style scoped>\n    .dataframe tbody tr th:only-of-type {\n        vertical-align: middle;\n    }\n\n    .dataframe tbody tr th {\n        vertical-align: top;\n    }\n\n    .dataframe thead th {\n        text-align: right;\n    }\n</style>\n<table border=\"1\" class=\"dataframe\">\n  <thead>\n    <tr style=\"text-align: right;\">\n      <th></th>\n      <th>_id</th>\n      <th>id</th>\n      <th>index</th>\n      <th>period</th>\n      <th>timestamp</th>\n      <th>minute</th>\n      <th>second</th>\n      <th>type.id</th>\n      <th>type.name</th>\n      <th>possession</th>\n      <th>...</th>\n      <th>pass.through_ball</th>\n      <th>pass.technique.id</th>\n      <th>pass.technique.name</th>\n      <th>counterpress</th>\n      <th>pass.cut_back</th>\n      <th>pass.no_touch</th>\n      <th>pass.miscommunication</th>\n      <th>out</th>\n      <th>off_camera</th>\n      <th>pass.backheel</th>\n    </tr>\n  </thead>\n  <tbody>\n    <tr>\n      <th>0</th>\n      <td>66ba38692d4a508f96672224</td>\n      <td>7fd797d5-530c-4e27-bac7-8fa097c95abc</td>\n      <td>28</td>\n      <td>1</td>\n      <td>00:00:16.035</td>\n      <td>0</td>\n      <td>16</td>\n      <td>30</td>\n      <td>Pass</td>\n      <td>2</td>\n      <td>...</td>\n      <td>NaN</td>\n      <td>NaN</td>\n      <td>NaN</td>\n      <td>NaN</td>\n      <td>NaN</td>\n      <td>NaN</td>\n      <td>NaN</td>\n      <td>NaN</td>\n      <td>NaN</td>\n      <td>NaN</td>\n    </tr>\n    <tr>\n      <th>1</th>\n      <td>66ba38692d4a508f96672228</td>\n      <td>76ebbb25-3467-413b-8497-f3e38f998e57</td>\n      <td>32</td>\n      <td>1</td>\n      <td>00:00:17.549</td>\n      <td>0</td>\n      <td>17</td>\n      <td>30</td>\n      <td>Pass</td>\n      <td>2</td>\n      <td>...</td>\n      <td>NaN</td>\n      <td>NaN</td>\n      <td>NaN</td>\n      <td>NaN</td>\n      <td>NaN</td>\n      <td>NaN</td>\n      <td>NaN</td>\n      <td>NaN</td>\n      <td>NaN</td>\n      <td>NaN</td>\n    </tr>\n    <tr>\n      <th>2</th>\n      <td>66ba38692d4a508f9667223d</td>\n      <td>cd460252-ecf1-4f5e-a65e-f2919175a0f2</td>\n      <td>53</td>\n      <td>1</td>\n      <td>00:00:41.641</td>\n      <td>0</td>\n      <td>41</td>\n      <td>30</td>\n      <td>Pass</td>\n      <td>3</td>\n      <td>...</td>\n      <td>NaN</td>\n      <td>NaN</td>\n      <td>NaN</td>\n      <td>NaN</td>\n      <td>NaN</td>\n      <td>NaN</td>\n      <td>NaN</td>\n      <td>NaN</td>\n      <td>NaN</td>\n      <td>NaN</td>\n    </tr>\n    <tr>\n      <th>3</th>\n      <td>66ba38692d4a508f9667224e</td>\n      <td>7a9e0311-6936-4f6d-aa56-90c0e6ff7b58</td>\n      <td>70</td>\n      <td>1</td>\n      <td>00:00:58.628</td>\n      <td>0</td>\n      <td>58</td>\n      <td>30</td>\n      <td>Pass</td>\n      <td>3</td>\n      <td>...</td>\n      <td>NaN</td>\n      <td>NaN</td>\n      <td>NaN</td>\n      <td>NaN</td>\n      <td>NaN</td>\n      <td>NaN</td>\n      <td>NaN</td>\n      <td>NaN</td>\n      <td>NaN</td>\n      <td>NaN</td>\n    </tr>\n    <tr>\n      <th>4</th>\n      <td>66ba38692d4a508f96672258</td>\n      <td>c970a836-e82c-4702-963a-b53ee7e29864</td>\n      <td>80</td>\n      <td>1</td>\n      <td>00:01:05.668</td>\n      <td>1</td>\n      <td>5</td>\n      <td>30</td>\n      <td>Pass</td>\n      <td>4</td>\n      <td>...</td>\n      <td>NaN</td>\n      <td>NaN</td>\n      <td>NaN</td>\n      <td>NaN</td>\n      <td>NaN</td>\n      <td>NaN</td>\n      <td>NaN</td>\n      <td>NaN</td>\n      <td>NaN</td>\n      <td>NaN</td>\n    </tr>\n  </tbody>\n</table>\n<p>5 rows × 62 columns</p>\n</div>"
     },
     "execution_count": 13,
     "metadata": {},
     "output_type": "execute_result"
    }
   ],
   "source": [
    "event_df = pd.read_csv('project_360_demo_remodeled.csv')\n",
    "event_df.head()"
   ],
   "metadata": {
    "collapsed": false,
    "ExecuteTime": {
     "end_time": "2024-09-06T20:04:22.183673800Z",
     "start_time": "2024-09-06T20:04:18.485031400Z"
    }
   },
   "id": "20cdf5ab07329c64"
  },
  {
   "cell_type": "code",
   "execution_count": 14,
   "outputs": [
    {
     "data": {
      "text/plain": "(517211, 62)"
     },
     "execution_count": 14,
     "metadata": {},
     "output_type": "execute_result"
    }
   ],
   "source": [
    "event_df.shape"
   ],
   "metadata": {
    "collapsed": false,
    "ExecuteTime": {
     "end_time": "2024-09-06T20:04:22.228671300Z",
     "start_time": "2024-09-06T20:04:22.178656800Z"
    }
   },
   "id": "264456005030756f"
  },
  {
   "cell_type": "code",
   "execution_count": 15,
   "outputs": [
    {
     "data": {
      "text/plain": "(38745, 67)"
     },
     "execution_count": 15,
     "metadata": {},
     "output_type": "execute_result"
    }
   ],
   "source": [
    "df_merged = pd.merge(event_df,df,how='inner', left_on='id',right_on='event_uuid')\n",
    "df_merged.shape"
   ],
   "metadata": {
    "collapsed": false,
    "ExecuteTime": {
     "end_time": "2024-09-06T20:04:22.451434900Z",
     "start_time": "2024-09-06T20:04:22.194658200Z"
    }
   },
   "id": "390d21ca64c16c3b"
  },
  {
   "cell_type": "code",
   "execution_count": 16,
   "outputs": [
    {
     "data": {
      "text/plain": "Incomplete          9579\nOut                 1022\nUnknown              230\nPass Offside         136\nInjury Clearance       5\nName: pass.outcome.name, dtype: int64"
     },
     "execution_count": 16,
     "metadata": {},
     "output_type": "execute_result"
    }
   ],
   "source": [
    "df_merged['pass.outcome.name'].value_counts()"
   ],
   "metadata": {
    "collapsed": false,
    "ExecuteTime": {
     "end_time": "2024-09-06T20:05:04.689045700Z",
     "start_time": "2024-09-06T20:05:04.657878400Z"
    }
   },
   "id": "17653d519e16bc3c"
  },
  {
   "cell_type": "code",
   "execution_count": 17,
   "outputs": [],
   "source": [
    "# Create a new column based on the condition\n",
    "df_merged['class_1'] = df_merged['pass.outcome.name'].apply(\n",
    "    lambda x: -1 if x in ['Incomplete', 'Out', 'Unknown', 'Pass Offside'] else 1\n",
    ")"
   ],
   "metadata": {
    "collapsed": false,
    "ExecuteTime": {
     "end_time": "2024-09-06T20:05:05.359026500Z",
     "start_time": "2024-09-06T20:05:05.323022400Z"
    }
   },
   "id": "a07391589be7f40a"
  },
  {
   "cell_type": "code",
   "execution_count": 18,
   "outputs": [
    {
     "data": {
      "text/plain": " 1    27778\n-1    10967\nName: class_1, dtype: int64"
     },
     "execution_count": 18,
     "metadata": {},
     "output_type": "execute_result"
    }
   ],
   "source": [
    "df_merged['class_1'].value_counts()"
   ],
   "metadata": {
    "collapsed": false,
    "ExecuteTime": {
     "end_time": "2024-09-06T20:05:06.075971700Z",
     "start_time": "2024-09-06T20:05:05.927283200Z"
    }
   },
   "id": "7cb7670f59979ca3"
  },
  {
   "cell_type": "code",
   "execution_count": 19,
   "outputs": [],
   "source": [
    "# Extract the first elements from the lists\n",
    "pass_end_x = df_merged['pass.end_location[0]'] > df_merged['location[0]']\n",
    "# Ensure we do not encounter NaNs in the comparison\n",
    "df_merged['class_2'] = pass_end_x.astype(int)"
   ],
   "metadata": {
    "collapsed": false,
    "ExecuteTime": {
     "end_time": "2024-09-06T20:05:06.758439300Z",
     "start_time": "2024-09-06T20:05:06.693435800Z"
    }
   },
   "id": "df95528ecc463402"
  },
  {
   "cell_type": "code",
   "execution_count": 20,
   "outputs": [
    {
     "data": {
      "text/plain": "1    22624\n0    16121\nName: class_2, dtype: int64"
     },
     "execution_count": 20,
     "metadata": {},
     "output_type": "execute_result"
    }
   ],
   "source": [
    "df_merged['class_2'].value_counts()"
   ],
   "metadata": {
    "collapsed": false,
    "ExecuteTime": {
     "end_time": "2024-09-06T20:05:07.302767900Z",
     "start_time": "2024-09-06T20:05:07.276692100Z"
    }
   },
   "id": "190a4588aa94561f"
  },
  {
   "cell_type": "code",
   "execution_count": 21,
   "outputs": [
    {
     "name": "stdout",
     "output_type": "stream",
     "text": [
      "class_2      0      1\n",
      "class_1              \n",
      "-1        1853   9114\n",
      " 1       14268  13510\n"
     ]
    }
   ],
   "source": [
    "# Compute the multilevel value counts using crosstab\n",
    "cross_tab = pd.crosstab(df_merged['class_1'], df_merged['class_2'])\n",
    "\n",
    "print(cross_tab)"
   ],
   "metadata": {
    "collapsed": false,
    "ExecuteTime": {
     "end_time": "2024-09-06T20:05:08.202018100Z",
     "start_time": "2024-09-06T20:05:08.153495600Z"
    }
   },
   "id": "70d6991a5b095c84"
  },
  {
   "cell_type": "code",
   "execution_count": 22,
   "outputs": [],
   "source": [
    "# Define the conditions\n",
    "conditions = [\n",
    "    (df_merged['class_1'] == -1),\n",
    "    (df_merged['class_1'] == 1) & (df_merged['class_2'] == 0),\n",
    "    (df_merged['class_1'] == 1) & (df_merged['class_2'] == 1)\n",
    "]\n",
    "\n",
    "# Define the corresponding choices\n",
    "choices = [-1, 0, 1]\n",
    "\n",
    "# Create the 'class_3' column based on the conditions\n",
    "df_merged['class_3'] = np.select(conditions, choices, default=np.nan)"
   ],
   "metadata": {
    "collapsed": false,
    "ExecuteTime": {
     "end_time": "2024-09-06T20:05:09.094343300Z",
     "start_time": "2024-09-06T20:05:09.057163500Z"
    }
   },
   "id": "dab35e23f78cb1a9"
  },
  {
   "cell_type": "code",
   "execution_count": 23,
   "outputs": [
    {
     "data": {
      "text/plain": " 0.0    14268\n 1.0    13510\n-1.0    10967\nName: class_3, dtype: int64"
     },
     "execution_count": 23,
     "metadata": {},
     "output_type": "execute_result"
    }
   ],
   "source": [
    "df_merged['class_3'].value_counts()"
   ],
   "metadata": {
    "collapsed": false,
    "ExecuteTime": {
     "end_time": "2024-09-06T20:05:11.042113200Z",
     "start_time": "2024-09-06T20:05:10.999109200Z"
    }
   },
   "id": "47f4f3247570398e"
  },
  {
   "cell_type": "code",
   "execution_count": 24,
   "outputs": [
    {
     "name": "stdout",
     "output_type": "stream",
     "text": [
      "related_events[0]\n",
      "related_events[1]\n",
      "related_events[2]\n",
      "related_events[3]\n",
      "related_events[4]\n",
      "related_events[5]\n"
     ]
    }
   ],
   "source": [
    "for columns in df_merged.columns:\n",
    "    if 'related' in columns.lower():\n",
    "        print(columns)"
   ],
   "metadata": {
    "collapsed": false,
    "ExecuteTime": {
     "end_time": "2024-09-06T20:05:11.985223900Z",
     "start_time": "2024-09-06T20:05:11.935207800Z"
    }
   },
   "id": "bf40b0c5142b6fec"
  },
  {
   "cell_type": "code",
   "execution_count": 25,
   "outputs": [
    {
     "data": {
      "text/plain": "133205"
     },
     "execution_count": 25,
     "metadata": {},
     "output_type": "execute_result"
    }
   ],
   "source": [
    "# Extract each column as a list\n",
    "list_0 = df_merged['related_events[0]'].tolist()\n",
    "list_1 = df_merged['related_events[1]'].tolist()\n",
    "list_2 = df_merged['related_events[2]'].tolist()\n",
    "list_3 = df_merged['related_events[3]'].tolist()\n",
    "list_4 = df_merged['related_events[4]'].tolist()\n",
    "list_5 = df_merged['related_events[5]'].tolist()\n",
    "\n",
    "# Concatenate all lists into a single list\n",
    "combined_list = list_0 + list_1 + list_2 + list_3 + list_4 + list_5\n",
    "\n",
    "# Extract unique values\n",
    "unique_values = list(set(combined_list))\n",
    "\n",
    "# Output the unique values\n",
    "len(unique_values)"
   ],
   "metadata": {
    "collapsed": false,
    "ExecuteTime": {
     "end_time": "2024-09-06T20:05:12.819050100Z",
     "start_time": "2024-09-06T20:05:12.770494200Z"
    }
   },
   "id": "45ce6458e6cd8957"
  },
  {
   "cell_type": "code",
   "execution_count": 26,
   "outputs": [
    {
     "data": {
      "text/plain": "133205"
     },
     "execution_count": 26,
     "metadata": {},
     "output_type": "execute_result"
    }
   ],
   "source": [
    "unique_values = list(set(combined_list))\n",
    "# Output the unique values\n",
    "len(unique_values)"
   ],
   "metadata": {
    "collapsed": false,
    "ExecuteTime": {
     "end_time": "2024-09-06T20:05:13.806684Z",
     "start_time": "2024-09-06T20:05:13.633639700Z"
    }
   },
   "id": "b43bb65afa4440bc"
  },
  {
   "cell_type": "code",
   "execution_count": 50,
   "outputs": [
    {
     "name": "stdout",
     "output_type": "stream",
     "text": [
      "MongoDB connection successful.\n",
      "Starting query of 33915 filtered event IDs in 1 batches.\n",
      "Completed batch 1 of 1.\n",
      "Query completed.\n",
      "Results saved to query_result_related_events.json.\n"
     ]
    }
   ],
   "source": [
    "import pymongo\n",
    "import json\n",
    "import sys\n",
    "\n",
    "# Define your MongoDB connection parameters\n",
    "host = \"mongodb://localhost:27017\"\n",
    "database_name = \"project_360_demo\"\n",
    "\n",
    "def mongo_connection(database_name, host):\n",
    "    \"\"\"Establishes a connection to MongoDB.\"\"\"\n",
    "    try:\n",
    "        client = pymongo.MongoClient(host)\n",
    "        db = client[database_name]  # Connects to the specified database\n",
    "        print(\"MongoDB connection successful.\")\n",
    "        return db\n",
    "    except Exception as e:\n",
    "        print(f\"Error connecting to MongoDB: {e}\")\n",
    "        return None\n",
    "\n",
    "def load_event_ids(json_file):\n",
    "    \"\"\"Loads a list of event_ids from a JSON file.\"\"\"\n",
    "    try:\n",
    "        with open(json_file, 'r') as file:\n",
    "            event_ids = json.load(file)\n",
    "        print(f\"Loaded {len(event_ids)} event IDs from {json_file}.\")\n",
    "        return event_ids\n",
    "    except Exception as e:\n",
    "        print(f\"Error loading JSON file: {e}\")\n",
    "        return []\n",
    "\n",
    "def query_events_in_batches(db, event_ids, batch_size=100000):\n",
    "    \"\"\"Queries MongoDB for documents in batches of event_ids with an additional check.\"\"\"\n",
    "    if db is None:\n",
    "        print(\"Database connection is not established.\")\n",
    "        return []\n",
    "\n",
    "    events_collection = db['events']\n",
    "    three_sixty_collection = db['three-sixty']\n",
    "    all_results = []\n",
    "    \n",
    "    # Query the 'events' collection once to get all event_ids with 'type.name': 'Pressure'\n",
    "    try:\n",
    "        pressure_docs = events_collection.find({\"id\": {\"$in\": event_ids}, \"type.name\": \"Pressure\"})\n",
    "        pressure_ids = {doc['id'] for doc in pressure_docs}\n",
    "    except Exception as e:\n",
    "        print(f\"Error querying events collection for Pressure type: {e}\")\n",
    "        return []\n",
    "    \n",
    "    if not pressure_ids:\n",
    "        print(\"No events with 'type.name': 'Pressure' found.\")\n",
    "        return []\n",
    "\n",
    "    total_batches = (len(pressure_ids) + batch_size - 1) // batch_size\n",
    "    print(f\"Starting query of {len(pressure_ids)} filtered event IDs in {total_batches} batches.\")\n",
    "\n",
    "    # Batch query the 'three-sixty' collection\n",
    "    for batch_num, i in enumerate(range(0, len(pressure_ids), batch_size), start=1):\n",
    "        batch = list(pressure_ids)[i:i + batch_size]\n",
    "        try:\n",
    "            cursor = three_sixty_collection.find({\"event_uuid\": {\"$in\": batch}})\n",
    "            batch_results = list(cursor)  # Collect results from each batch\n",
    "            all_results.extend(batch_results)\n",
    "            print(f\"Completed batch {batch_num} of {total_batches}.\")\n",
    "        except Exception as e:\n",
    "            print(f\"Error querying MongoDB in batch {batch_num}: {e}\")\n",
    "\n",
    "    print(\"Query completed.\")\n",
    "    return all_results\n",
    "\n",
    "\n",
    "def save_results_to_json(results, output_file):\n",
    "    \"\"\"Saves the query results to a JSON file.\"\"\"\n",
    "    try:\n",
    "        with open(output_file, 'w') as file:\n",
    "            json.dump(results, file, default=str)  # default=str to handle non-serializable types\n",
    "        print(f\"Results saved to {output_file}.\")\n",
    "    except Exception as e:\n",
    "        print(f\"Error saving results to JSON file: {e}\")\n",
    "\n",
    "def main():\n",
    "    # Load the event_ids from the JSON file\n",
    "    event_ids = unique_values\n",
    "    \n",
    "    if not event_ids:\n",
    "        print(\"No event IDs to process. Exiting.\")\n",
    "        sys.exit(1)\n",
    "    \n",
    "    # Establish connection to MongoDB\n",
    "    db = mongo_connection(database_name, host)\n",
    "    \n",
    "    # Query the MongoDB collection in batches\n",
    "    results = query_events_in_batches(db, event_ids)\n",
    "    \n",
    "    # Save the results to a JSON file\n",
    "    save_results_to_json(results, 'query_result_related_events.json')\n",
    "\n",
    "if __name__ == \"__main__\":\n",
    "    main()\n"
   ],
   "metadata": {
    "collapsed": false,
    "ExecuteTime": {
     "end_time": "2024-09-06T20:10:32.922989800Z",
     "start_time": "2024-09-06T20:10:03.283974200Z"
    }
   },
   "id": "49cb3790851d8fb8"
  },
  {
   "cell_type": "code",
   "execution_count": 59,
   "outputs": [
    {
     "data": {
      "text/plain": "(32016, 5)"
     },
     "execution_count": 59,
     "metadata": {},
     "output_type": "execute_result"
    }
   ],
   "source": [
    "df_related = pd.read_json('query_result_related_events.json')\n",
    "df_related.shape"
   ],
   "metadata": {
    "collapsed": false,
    "ExecuteTime": {
     "end_time": "2024-09-06T20:15:33.909292600Z",
     "start_time": "2024-09-06T20:15:32.001152100Z"
    }
   },
   "id": "921a04f6f2e3e494"
  },
  {
   "cell_type": "code",
   "execution_count": 60,
   "outputs": [],
   "source": [
    "related_event_col = ['related_events[1]','related_events[2]','related_events[3]','related_events[4]','related_events[5]']"
   ],
   "metadata": {
    "collapsed": false,
    "ExecuteTime": {
     "end_time": "2024-09-06T20:15:33.954007100Z",
     "start_time": "2024-09-06T20:15:33.912293400Z"
    }
   },
   "id": "4b453cdd02e7b61"
  },
  {
   "cell_type": "code",
   "execution_count": 61,
   "outputs": [],
   "source": [
    "final_df = pd.merge(df_merged,df_related,how='left', left_on='related_events[0]',right_on='event_uuid',suffixes=('','_related_events[0]'))\n",
    "for col in related_event_col:\n",
    "    final_df = pd.merge(final_df,df_related,how='left', left_on=col,right_on='event_uuid',suffixes=('','_'+col))"
   ],
   "metadata": {
    "collapsed": false,
    "ExecuteTime": {
     "end_time": "2024-09-06T20:15:34.448865700Z",
     "start_time": "2024-09-06T20:15:33.927177400Z"
    }
   },
   "id": "8ab7517523350ceb"
  },
  {
   "cell_type": "code",
   "execution_count": 62,
   "outputs": [
    {
     "data": {
      "text/plain": "(38745, 100)"
     },
     "execution_count": 62,
     "metadata": {},
     "output_type": "execute_result"
    }
   ],
   "source": [
    "final_df.shape"
   ],
   "metadata": {
    "collapsed": false,
    "ExecuteTime": {
     "end_time": "2024-09-06T20:15:37.553888500Z",
     "start_time": "2024-09-06T20:15:37.522512900Z"
    }
   },
   "id": "6bdd5ccaabae1381"
  },
  {
   "cell_type": "code",
   "execution_count": 63,
   "outputs": [
    {
     "name": "stdout",
     "output_type": "stream",
     "text": [
      "related_events[0]\n",
      "related_events[1]\n",
      "related_events[2]\n",
      "related_events[3]\n",
      "related_events[4]\n",
      "related_events[5]\n",
      "event_uuid_related_events[0]\n",
      "visible_area_related_events[0]\n",
      "freeze_frame_related_events[0]\n",
      "_id_related_events[1]\n",
      "event_uuid_related_events[1]\n",
      "visible_area_related_events[1]\n",
      "freeze_frame_related_events[1]\n",
      "match_id_related_events[1]\n",
      "_id_related_events[2]\n",
      "event_uuid_related_events[2]\n",
      "visible_area_related_events[2]\n",
      "freeze_frame_related_events[2]\n",
      "match_id_related_events[2]\n",
      "_id_related_events[3]\n",
      "event_uuid_related_events[3]\n",
      "visible_area_related_events[3]\n",
      "freeze_frame_related_events[3]\n",
      "match_id_related_events[3]\n",
      "_id_related_events[4]\n",
      "event_uuid_related_events[4]\n",
      "visible_area_related_events[4]\n",
      "freeze_frame_related_events[4]\n",
      "match_id_related_events[4]\n",
      "_id_related_events[5]\n",
      "event_uuid_related_events[5]\n",
      "visible_area_related_events[5]\n",
      "freeze_frame_related_events[5]\n",
      "match_id_related_events[5]\n"
     ]
    }
   ],
   "source": [
    "for col in final_df.columns:\n",
    "    if 'related' in col.lower():\n",
    "        print(col)"
   ],
   "metadata": {
    "collapsed": false,
    "ExecuteTime": {
     "end_time": "2024-09-06T20:15:39.383677500Z",
     "start_time": "2024-09-06T20:15:39.361057800Z"
    }
   },
   "id": "5ba8e4794be5e9ef"
  },
  {
   "cell_type": "code",
   "execution_count": 64,
   "outputs": [
    {
     "data": {
      "text/plain": "(38745, 100)"
     },
     "execution_count": 64,
     "metadata": {},
     "output_type": "execute_result"
    }
   ],
   "source": [
    "final_df.shape"
   ],
   "metadata": {
    "collapsed": false,
    "ExecuteTime": {
     "end_time": "2024-09-06T20:15:48.246035300Z",
     "start_time": "2024-09-06T20:15:48.219734900Z"
    }
   },
   "id": "d69fe684c2da7397"
  },
  {
   "cell_type": "code",
   "execution_count": 65,
   "outputs": [
    {
     "data": {
      "text/plain": "(38745, 93)"
     },
     "execution_count": 65,
     "metadata": {},
     "output_type": "execute_result"
    }
   ],
   "source": [
    "# Drop columns where all values are NaN\n",
    "df_cleaned = final_df.dropna(axis=1, how='all')\n",
    "\n",
    "df_cleaned.shape"
   ],
   "metadata": {
    "collapsed": false,
    "ExecuteTime": {
     "end_time": "2024-09-06T20:15:54.018107200Z",
     "start_time": "2024-09-06T20:15:53.691108400Z"
    }
   },
   "id": "52a15733ee0a7173"
  },
  {
   "cell_type": "code",
   "execution_count": 66,
   "outputs": [
    {
     "data": {
      "text/plain": "Index(['_id_x', 'id', 'index', 'period', 'timestamp', 'minute', 'second',\n       'type.id', 'type.name', 'possession', 'possession_team.id',\n       'possession_team.name', 'play_pattern.id', 'play_pattern.name',\n       'team.id', 'team.name', 'player.id', 'player.name', 'position.id',\n       'position.name', 'location[0]', 'location[1]', 'duration',\n       'under_pressure', 'related_events[0]', 'related_events[1]',\n       'related_events[2]', 'related_events[3]', 'related_events[4]',\n       'pass.recipient.id', 'pass.recipient.name', 'pass.length', 'pass.angle',\n       'pass.height.id', 'pass.height.name', 'pass.end_location[0]',\n       'pass.end_location[1]', 'pass.body_part.id', 'pass.body_part.name',\n       'match_id_x', 'pass.outcome.id', 'pass.outcome.name', 'pass.aerial_won',\n       'pass.type.id', 'pass.type.name', 'pass.cross', 'pass.deflected',\n       'pass.switch', 'pass.assisted_shot_id', 'pass.goal_assist',\n       'pass.shot_assist', 'pass.through_ball', 'pass.technique.id',\n       'pass.technique.name', 'counterpress', 'pass.cut_back', 'pass.no_touch',\n       'pass.miscommunication', 'out', 'off_camera', '_id_y', 'event_uuid',\n       'visible_area', 'freeze_frame', 'match_id_y', 'class_1', 'class_2',\n       'class_3', '_id', 'event_uuid_related_events[0]',\n       'visible_area_related_events[0]', 'freeze_frame_related_events[0]',\n       'match_id', '_id_related_events[1]', 'event_uuid_related_events[1]',\n       'visible_area_related_events[1]', 'freeze_frame_related_events[1]',\n       'match_id_related_events[1]', '_id_related_events[2]',\n       'event_uuid_related_events[2]', 'visible_area_related_events[2]',\n       'freeze_frame_related_events[2]', 'match_id_related_events[2]',\n       '_id_related_events[3]', 'event_uuid_related_events[3]',\n       'visible_area_related_events[3]', 'freeze_frame_related_events[3]',\n       'match_id_related_events[3]', '_id_related_events[4]',\n       'event_uuid_related_events[4]', 'visible_area_related_events[4]',\n       'freeze_frame_related_events[4]', 'match_id_related_events[4]'],\n      dtype='object')"
     },
     "execution_count": 66,
     "metadata": {},
     "output_type": "execute_result"
    }
   ],
   "source": [
    "df_cleaned.columns"
   ],
   "metadata": {
    "collapsed": false,
    "ExecuteTime": {
     "end_time": "2024-09-06T20:15:57.235790200Z",
     "start_time": "2024-09-06T20:15:57.215783800Z"
    }
   },
   "id": "cb259b5483e06123"
  },
  {
   "cell_type": "code",
   "execution_count": 70,
   "outputs": [
    {
     "name": "stderr",
     "output_type": "stream",
     "text": [
      "C:\\Users\\kakka\\AppData\\Local\\Temp\\ipykernel_34216\\394483189.py:5: SettingWithCopyWarning: \n",
      "A value is trying to be set on a copy of a slice from a DataFrame.\n",
      "Try using .loc[row_indexer,col_indexer] = value instead\n",
      "\n",
      "See the caveats in the documentation: https://pandas.pydata.org/pandas-docs/stable/user_guide/indexing.html#returning-a-view-versus-a-copy\n",
      "  df_cleaned['non_empty_count'] = df_cleaned[columns_to_check].notna().sum(axis=1)\n"
     ]
    }
   ],
   "source": [
    "# List of columns to check\n",
    "columns_to_check = ['related_events[0]','related_events[1]', 'related_events[2]', 'related_events[3]','related_events[4]']\n",
    "\n",
    "# Create a new column that counts the number of non-empty values in the specified columns\n",
    "df_cleaned['non_empty_count'] = df_cleaned[columns_to_check].notna().sum(axis=1)"
   ],
   "metadata": {
    "collapsed": false,
    "ExecuteTime": {
     "end_time": "2024-09-06T20:17:43.605768500Z",
     "start_time": "2024-09-06T20:17:43.544429900Z"
    }
   },
   "id": "a021d62a68224f31"
  },
  {
   "cell_type": "code",
   "execution_count": 71,
   "outputs": [
    {
     "data": {
      "text/plain": "2    28646\n3     8902\n4      803\n1      391\n5        3\nName: non_empty_count, dtype: int64"
     },
     "execution_count": 71,
     "metadata": {},
     "output_type": "execute_result"
    }
   ],
   "source": [
    "df_cleaned['non_empty_count'].value_counts()"
   ],
   "metadata": {
    "collapsed": false,
    "ExecuteTime": {
     "end_time": "2024-09-06T20:17:44.224018700Z",
     "start_time": "2024-09-06T20:17:44.117078400Z"
    }
   },
   "id": "ee21235a9e60e32c"
  },
  {
   "cell_type": "code",
   "execution_count": 74,
   "outputs": [],
   "source": [
    "# Filter rows where 'non_empty_count' equals 1\n",
    "filtered_df = df_cleaned[df_cleaned['non_empty_count'] > 1]"
   ],
   "metadata": {
    "collapsed": false,
    "ExecuteTime": {
     "end_time": "2024-09-06T20:18:10.978033300Z",
     "start_time": "2024-09-06T20:18:10.920367300Z"
    }
   },
   "id": "78bce6d6dc1da881"
  },
  {
   "cell_type": "code",
   "execution_count": 75,
   "outputs": [
    {
     "data": {
      "text/plain": "(38354, 94)"
     },
     "execution_count": 75,
     "metadata": {},
     "output_type": "execute_result"
    }
   ],
   "source": [
    "filtered_df.shape"
   ],
   "metadata": {
    "collapsed": false,
    "ExecuteTime": {
     "end_time": "2024-09-06T20:18:11.611149800Z",
     "start_time": "2024-09-06T20:18:11.559996Z"
    }
   },
   "id": "560ad44567e8ab67"
  },
  {
   "cell_type": "code",
   "execution_count": 76,
   "outputs": [
    {
     "data": {
      "text/plain": "23624"
     },
     "execution_count": 76,
     "metadata": {},
     "output_type": "execute_result"
    }
   ],
   "source": [
    "filtered_df['visible_area_related_events[0]'].isna().sum()"
   ],
   "metadata": {
    "collapsed": false,
    "ExecuteTime": {
     "end_time": "2024-09-06T20:18:12.579288400Z",
     "start_time": "2024-09-06T20:18:12.424509700Z"
    }
   },
   "id": "9545435cafe43e09"
  },
  {
   "cell_type": "code",
   "execution_count": 82,
   "outputs": [
    {
     "name": "stderr",
     "output_type": "stream",
     "text": [
      "C:\\Users\\kakka\\AppData\\Local\\Temp\\ipykernel_34216\\1085627325.py:6: SettingWithCopyWarning: \n",
      "A value is trying to be set on a copy of a slice from a DataFrame.\n",
      "Try using .loc[row_indexer,col_indexer] = value instead\n",
      "\n",
      "See the caveats in the documentation: https://pandas.pydata.org/pandas-docs/stable/user_guide/indexing.html#returning-a-view-versus-a-copy\n",
      "  filtered_df[target_column] = filtered_df[target_column].fillna(filtered_df[columns_to_fill_from].bfill(axis=1).iloc[:, 0])\n"
     ]
    }
   ],
   "source": [
    "# Target column and columns to fill from\n",
    "target_column = 'visible_area_related_events[0]'\n",
    "columns_to_fill_from = ['visible_area_related_events[1]', 'visible_area_related_events[2]', 'visible_area_related_events[3]', 'visible_area_related_events[4]']\n",
    "\n",
    "# Fill missing values in target column\n",
    "filtered_df[target_column] = filtered_df[target_column].fillna(filtered_df[columns_to_fill_from].bfill(axis=1).iloc[:, 0])"
   ],
   "metadata": {
    "collapsed": false,
    "ExecuteTime": {
     "end_time": "2024-09-06T20:19:11.968870300Z",
     "start_time": "2024-09-06T20:19:11.865130600Z"
    }
   },
   "id": "8e7d80b4a0b180a"
  },
  {
   "cell_type": "code",
   "execution_count": 84,
   "outputs": [
    {
     "name": "stderr",
     "output_type": "stream",
     "text": [
      "C:\\Users\\kakka\\AppData\\Local\\Temp\\ipykernel_34216\\1750192503.py:6: SettingWithCopyWarning: \n",
      "A value is trying to be set on a copy of a slice from a DataFrame.\n",
      "Try using .loc[row_indexer,col_indexer] = value instead\n",
      "\n",
      "See the caveats in the documentation: https://pandas.pydata.org/pandas-docs/stable/user_guide/indexing.html#returning-a-view-versus-a-copy\n",
      "  filtered_df[target_column] = filtered_df[target_column].fillna(filtered_df[columns_to_fill_from].bfill(axis=1).iloc[:, 0])\n"
     ]
    }
   ],
   "source": [
    "# Target column and columns to fill from\n",
    "target_column = 'freeze_frame_related_events[0]'\n",
    "columns_to_fill_from = ['freeze_frame_related_events[1]', 'freeze_frame_related_events[2]', 'freeze_frame_related_events[3]', 'freeze_frame_related_events[4]']\n",
    "\n",
    "# Fill missing values in target column\n",
    "filtered_df[target_column] = filtered_df[target_column].fillna(filtered_df[columns_to_fill_from].bfill(axis=1).iloc[:, 0])"
   ],
   "metadata": {
    "collapsed": false,
    "ExecuteTime": {
     "end_time": "2024-09-06T20:20:00.954476400Z",
     "start_time": "2024-09-06T20:20:00.838709800Z"
    }
   },
   "id": "fd4370c712bc54e8"
  },
  {
   "cell_type": "code",
   "execution_count": 85,
   "outputs": [
    {
     "data": {
      "text/plain": "7036"
     },
     "execution_count": 85,
     "metadata": {},
     "output_type": "execute_result"
    }
   ],
   "source": [
    "filtered_df['freeze_frame_related_events[0]'].isna().sum()"
   ],
   "metadata": {
    "collapsed": false,
    "ExecuteTime": {
     "end_time": "2024-09-06T20:20:06.565162900Z",
     "start_time": "2024-09-06T20:20:06.516565100Z"
    }
   },
   "id": "33de9ea70d67ea1f"
  },
  {
   "cell_type": "code",
   "execution_count": 86,
   "outputs": [
    {
     "name": "stderr",
     "output_type": "stream",
     "text": [
      "C:\\Users\\kakka\\AppData\\Local\\Temp\\ipykernel_34216\\1782317036.py:6: SettingWithCopyWarning: \n",
      "A value is trying to be set on a copy of a slice from a DataFrame.\n",
      "Try using .loc[row_indexer,col_indexer] = value instead\n",
      "\n",
      "See the caveats in the documentation: https://pandas.pydata.org/pandas-docs/stable/user_guide/indexing.html#returning-a-view-versus-a-copy\n",
      "  filtered_df[target_column] = filtered_df[target_column].fillna(filtered_df[columns_to_fill_from].bfill(axis=1).iloc[:, 0])\n"
     ]
    }
   ],
   "source": [
    "# Target column and columns to fill from\n",
    "target_column = 'event_uuid_related_events[0]'\n",
    "columns_to_fill_from = ['event_uuid_related_events[1]', 'event_uuid_related_events[2]', 'event_uuid_related_events[3]', 'event_uuid_related_events[4]']\n",
    "\n",
    "# Fill missing values in target column\n",
    "filtered_df[target_column] = filtered_df[target_column].fillna(filtered_df[columns_to_fill_from].bfill(axis=1).iloc[:, 0])"
   ],
   "metadata": {
    "collapsed": false,
    "ExecuteTime": {
     "end_time": "2024-09-06T20:20:15.961706700Z",
     "start_time": "2024-09-06T20:20:15.864474900Z"
    }
   },
   "id": "a7669bb7ac82d5b3"
  },
  {
   "cell_type": "code",
   "execution_count": 87,
   "outputs": [
    {
     "data": {
      "text/plain": "(38354, 94)"
     },
     "execution_count": 87,
     "metadata": {},
     "output_type": "execute_result"
    }
   ],
   "source": [
    "filtered_df.shape"
   ],
   "metadata": {
    "collapsed": false,
    "ExecuteTime": {
     "end_time": "2024-09-06T20:20:17.050020600Z",
     "start_time": "2024-09-06T20:20:17.020033200Z"
    }
   },
   "id": "9286acee9a310fc9"
  },
  {
   "cell_type": "code",
   "execution_count": 88,
   "outputs": [
    {
     "data": {
      "text/plain": "Index(['_id_x', 'id', 'index', 'period', 'timestamp', 'minute', 'second',\n       'type.id', 'type.name', 'possession', 'possession_team.id',\n       'possession_team.name', 'play_pattern.id', 'play_pattern.name',\n       'team.id', 'team.name', 'player.id', 'player.name', 'position.id',\n       'position.name', 'location[0]', 'location[1]', 'duration',\n       'under_pressure', 'related_events[0]', 'related_events[1]',\n       'related_events[2]', 'related_events[3]', 'related_events[4]',\n       'pass.recipient.id', 'pass.recipient.name', 'pass.length', 'pass.angle',\n       'pass.height.id', 'pass.height.name', 'pass.end_location[0]',\n       'pass.end_location[1]', 'pass.body_part.id', 'pass.body_part.name',\n       'match_id_x', 'pass.outcome.id', 'pass.outcome.name', 'pass.aerial_won',\n       'pass.type.id', 'pass.type.name', 'pass.cross', 'pass.deflected',\n       'pass.switch', 'pass.assisted_shot_id', 'pass.goal_assist',\n       'pass.shot_assist', 'pass.through_ball', 'pass.technique.id',\n       'pass.technique.name', 'counterpress', 'pass.cut_back', 'pass.no_touch',\n       'pass.miscommunication', 'out', 'off_camera', '_id_y', 'event_uuid',\n       'visible_area', 'freeze_frame', 'match_id_y', 'class_1', 'class_2',\n       'class_3', '_id', 'event_uuid_related_events[0]',\n       'visible_area_related_events[0]', 'freeze_frame_related_events[0]',\n       'match_id', '_id_related_events[1]', 'event_uuid_related_events[1]',\n       'visible_area_related_events[1]', 'freeze_frame_related_events[1]',\n       'match_id_related_events[1]', '_id_related_events[2]',\n       'event_uuid_related_events[2]', 'visible_area_related_events[2]',\n       'freeze_frame_related_events[2]', 'match_id_related_events[2]',\n       '_id_related_events[3]', 'event_uuid_related_events[3]',\n       'visible_area_related_events[3]', 'freeze_frame_related_events[3]',\n       'match_id_related_events[3]', '_id_related_events[4]',\n       'event_uuid_related_events[4]', 'visible_area_related_events[4]',\n       'freeze_frame_related_events[4]', 'match_id_related_events[4]',\n       'non_empty_count'],\n      dtype='object')"
     },
     "execution_count": 88,
     "metadata": {},
     "output_type": "execute_result"
    }
   ],
   "source": [
    "filtered_df.columns"
   ],
   "metadata": {
    "collapsed": false,
    "ExecuteTime": {
     "end_time": "2024-09-06T20:20:27.777932200Z",
     "start_time": "2024-09-06T20:20:27.741718Z"
    }
   },
   "id": "5d55eab9e234332c"
  },
  {
   "cell_type": "code",
   "execution_count": 89,
   "outputs": [],
   "source": [
    "# List of columns to remove\n",
    "columns_to_remove = ['related_events[0]', 'related_events[1]','related_events[2]', 'related_events[3]', 'related_events[4]','_id_related_events[1]','event_uuid_related_events[1]', 'visible_area_related_events[1]','freeze_frame_related_events[1]', 'match_id_related_events[1]','_id_related_events[2]', 'event_uuid_related_events[2]','visible_area_related_events[2]', 'freeze_frame_related_events[2]','match_id_related_events[2]', '_id_related_events[3]','event_uuid_related_events[3]', 'visible_area_related_events[3]','freeze_frame_related_events[3]', 'match_id_related_events[3]','_id_related_events[4]', 'event_uuid_related_events[4]','visible_area_related_events[4]', 'freeze_frame_related_events[4]','match_id_related_events[4]']\n",
    "\n",
    "# Remove the specified columns\n",
    "df_master = filtered_df.drop(columns=columns_to_remove)"
   ],
   "metadata": {
    "collapsed": false,
    "ExecuteTime": {
     "end_time": "2024-09-06T20:20:32.757449300Z",
     "start_time": "2024-09-06T20:20:32.646710500Z"
    }
   },
   "id": "c606d7e839799324"
  },
  {
   "cell_type": "code",
   "execution_count": 97,
   "outputs": [
    {
     "data": {
      "text/plain": "0        533ffee0-b9fc-4065-a9db-cb729523d926\n1        c615b3b6-58de-4f77-8190-f0d7f80bbcff\n2        031c2b95-22d3-4635-b1ae-c3cd3a7f2a00\n3        265ff095-89ef-4223-bf0f-53bb41f3f5a6\n4        2390b293-7317-40e2-90da-47c81a2f2cd5\n                         ...                 \n38740    77bb82d2-bdaf-46e2-abba-4ca9058ddaf3\n38741    37d0ce7e-82f0-4ef1-9b1a-5231f3cb75a0\n38742    db42afb8-08c2-436f-a785-16b107cc1c9f\n38743    a79a45f0-bd9d-41eb-89cf-2b103217a1f0\n38744    104cf7a6-4320-4a00-8c8c-aaed49d7afc8\nName: event_uuid_related_events[0], Length: 38354, dtype: object"
     },
     "execution_count": 97,
     "metadata": {},
     "output_type": "execute_result"
    }
   ],
   "source": [
    "df_master['event_uuid_related_events[0]']"
   ],
   "metadata": {
    "collapsed": false,
    "ExecuteTime": {
     "end_time": "2024-09-06T20:22:46.282638800Z",
     "start_time": "2024-09-06T20:22:46.246580200Z"
    }
   },
   "id": "9fab3a8c1bef3349"
  },
  {
   "cell_type": "code",
   "execution_count": 91,
   "outputs": [
    {
     "data": {
      "text/plain": "                      _id_x                                    id  index  \\\n0  66ba38692d4a508f96672224  7fd797d5-530c-4e27-bac7-8fa097c95abc     28   \n1  66ba38692d4a508f96672228  76ebbb25-3467-413b-8497-f3e38f998e57     32   \n2  66ba38692d4a508f9667224e  7a9e0311-6936-4f6d-aa56-90c0e6ff7b58     70   \n3  66ba38692d4a508f96672258  c970a836-e82c-4702-963a-b53ee7e29864     80   \n4  66ba38692d4a508f96672275  9567c2e9-b970-4b92-b4ae-7843a912906d    109   \n\n   period     timestamp  minute  second  type.id type.name  possession  ...  \\\n0       1  00:00:16.035       0      16       30      Pass           2  ...   \n1       1  00:00:17.549       0      17       30      Pass           2  ...   \n2       1  00:00:58.628       0      58       30      Pass           3  ...   \n3       1  00:01:05.668       1       5       30      Pass           4  ...   \n4       1  00:01:52.335       1      52       30      Pass           6  ...   \n\n   match_id_y class_1  class_2 class_3                       _id  \\\n0     3895302       1        0     0.0  66ba38692d4a508f9667329b   \n1     3895302      -1        1    -1.0                       NaN   \n2     3895302      -1        1    -1.0  66ba38692d4a508f966732be   \n3     3895302      -1        1    -1.0  66ba38692d4a508f966732c8   \n4     3895302       1        1     1.0  66ba38692d4a508f966732e4   \n\n           event_uuid_related_events[0]  \\\n0  533ffee0-b9fc-4065-a9db-cb729523d926   \n1  c615b3b6-58de-4f77-8190-f0d7f80bbcff   \n2  031c2b95-22d3-4635-b1ae-c3cd3a7f2a00   \n3  265ff095-89ef-4223-bf0f-53bb41f3f5a6   \n4  2390b293-7317-40e2-90da-47c81a2f2cd5   \n\n                      visible_area_related_events[0]  \\\n0  [49.56201260049416, 50.80856566796838, 36.6254...   \n1  [46.755233937336605, 55.71397276403634, 30.911...   \n2  [0.0, 80.0, 0.0, 36.92010561266323, 26.3879996...   \n3  [53.52389536966718, 66.00644482164927, 41.9860...   \n4  [101.54205978885525, 76.4545607681595, 79.9492...   \n\n                      freeze_frame_related_events[0]   match_id  \\\n0  [{'teammate': True, 'actor': False, 'keeper': ...  3895302.0   \n1  [{'teammate': True, 'actor': False, 'keeper': ...        NaN   \n2  [{'teammate': True, 'actor': False, 'keeper': ...  3895302.0   \n3  [{'teammate': True, 'actor': False, 'keeper': ...  3895302.0   \n4  [{'teammate': True, 'actor': False, 'keeper': ...  3895302.0   \n\n  non_empty_count  \n0               2  \n1               3  \n2               3  \n3               3  \n4               3  \n\n[5 rows x 69 columns]",
      "text/html": "<div>\n<style scoped>\n    .dataframe tbody tr th:only-of-type {\n        vertical-align: middle;\n    }\n\n    .dataframe tbody tr th {\n        vertical-align: top;\n    }\n\n    .dataframe thead th {\n        text-align: right;\n    }\n</style>\n<table border=\"1\" class=\"dataframe\">\n  <thead>\n    <tr style=\"text-align: right;\">\n      <th></th>\n      <th>_id_x</th>\n      <th>id</th>\n      <th>index</th>\n      <th>period</th>\n      <th>timestamp</th>\n      <th>minute</th>\n      <th>second</th>\n      <th>type.id</th>\n      <th>type.name</th>\n      <th>possession</th>\n      <th>...</th>\n      <th>match_id_y</th>\n      <th>class_1</th>\n      <th>class_2</th>\n      <th>class_3</th>\n      <th>_id</th>\n      <th>event_uuid_related_events[0]</th>\n      <th>visible_area_related_events[0]</th>\n      <th>freeze_frame_related_events[0]</th>\n      <th>match_id</th>\n      <th>non_empty_count</th>\n    </tr>\n  </thead>\n  <tbody>\n    <tr>\n      <th>0</th>\n      <td>66ba38692d4a508f96672224</td>\n      <td>7fd797d5-530c-4e27-bac7-8fa097c95abc</td>\n      <td>28</td>\n      <td>1</td>\n      <td>00:00:16.035</td>\n      <td>0</td>\n      <td>16</td>\n      <td>30</td>\n      <td>Pass</td>\n      <td>2</td>\n      <td>...</td>\n      <td>3895302</td>\n      <td>1</td>\n      <td>0</td>\n      <td>0.0</td>\n      <td>66ba38692d4a508f9667329b</td>\n      <td>533ffee0-b9fc-4065-a9db-cb729523d926</td>\n      <td>[49.56201260049416, 50.80856566796838, 36.6254...</td>\n      <td>[{'teammate': True, 'actor': False, 'keeper': ...</td>\n      <td>3895302.0</td>\n      <td>2</td>\n    </tr>\n    <tr>\n      <th>1</th>\n      <td>66ba38692d4a508f96672228</td>\n      <td>76ebbb25-3467-413b-8497-f3e38f998e57</td>\n      <td>32</td>\n      <td>1</td>\n      <td>00:00:17.549</td>\n      <td>0</td>\n      <td>17</td>\n      <td>30</td>\n      <td>Pass</td>\n      <td>2</td>\n      <td>...</td>\n      <td>3895302</td>\n      <td>-1</td>\n      <td>1</td>\n      <td>-1.0</td>\n      <td>NaN</td>\n      <td>c615b3b6-58de-4f77-8190-f0d7f80bbcff</td>\n      <td>[46.755233937336605, 55.71397276403634, 30.911...</td>\n      <td>[{'teammate': True, 'actor': False, 'keeper': ...</td>\n      <td>NaN</td>\n      <td>3</td>\n    </tr>\n    <tr>\n      <th>2</th>\n      <td>66ba38692d4a508f9667224e</td>\n      <td>7a9e0311-6936-4f6d-aa56-90c0e6ff7b58</td>\n      <td>70</td>\n      <td>1</td>\n      <td>00:00:58.628</td>\n      <td>0</td>\n      <td>58</td>\n      <td>30</td>\n      <td>Pass</td>\n      <td>3</td>\n      <td>...</td>\n      <td>3895302</td>\n      <td>-1</td>\n      <td>1</td>\n      <td>-1.0</td>\n      <td>66ba38692d4a508f966732be</td>\n      <td>031c2b95-22d3-4635-b1ae-c3cd3a7f2a00</td>\n      <td>[0.0, 80.0, 0.0, 36.92010561266323, 26.3879996...</td>\n      <td>[{'teammate': True, 'actor': False, 'keeper': ...</td>\n      <td>3895302.0</td>\n      <td>3</td>\n    </tr>\n    <tr>\n      <th>3</th>\n      <td>66ba38692d4a508f96672258</td>\n      <td>c970a836-e82c-4702-963a-b53ee7e29864</td>\n      <td>80</td>\n      <td>1</td>\n      <td>00:01:05.668</td>\n      <td>1</td>\n      <td>5</td>\n      <td>30</td>\n      <td>Pass</td>\n      <td>4</td>\n      <td>...</td>\n      <td>3895302</td>\n      <td>-1</td>\n      <td>1</td>\n      <td>-1.0</td>\n      <td>66ba38692d4a508f966732c8</td>\n      <td>265ff095-89ef-4223-bf0f-53bb41f3f5a6</td>\n      <td>[53.52389536966718, 66.00644482164927, 41.9860...</td>\n      <td>[{'teammate': True, 'actor': False, 'keeper': ...</td>\n      <td>3895302.0</td>\n      <td>3</td>\n    </tr>\n    <tr>\n      <th>4</th>\n      <td>66ba38692d4a508f96672275</td>\n      <td>9567c2e9-b970-4b92-b4ae-7843a912906d</td>\n      <td>109</td>\n      <td>1</td>\n      <td>00:01:52.335</td>\n      <td>1</td>\n      <td>52</td>\n      <td>30</td>\n      <td>Pass</td>\n      <td>6</td>\n      <td>...</td>\n      <td>3895302</td>\n      <td>1</td>\n      <td>1</td>\n      <td>1.0</td>\n      <td>66ba38692d4a508f966732e4</td>\n      <td>2390b293-7317-40e2-90da-47c81a2f2cd5</td>\n      <td>[101.54205978885525, 76.4545607681595, 79.9492...</td>\n      <td>[{'teammate': True, 'actor': False, 'keeper': ...</td>\n      <td>3895302.0</td>\n      <td>3</td>\n    </tr>\n  </tbody>\n</table>\n<p>5 rows × 69 columns</p>\n</div>"
     },
     "execution_count": 91,
     "metadata": {},
     "output_type": "execute_result"
    }
   ],
   "source": [
    "df_master.head()"
   ],
   "metadata": {
    "collapsed": false,
    "ExecuteTime": {
     "end_time": "2024-09-06T20:20:45.726896800Z",
     "start_time": "2024-09-06T20:20:45.681805900Z"
    }
   },
   "id": "d550f49cb232748d"
  },
  {
   "cell_type": "code",
   "execution_count": 92,
   "outputs": [
    {
     "data": {
      "text/plain": " 0.0    14261\n 1.0    13506\n-1.0    10587\nName: class_3, dtype: int64"
     },
     "execution_count": 92,
     "metadata": {},
     "output_type": "execute_result"
    }
   ],
   "source": [
    "df_master['class_3'].value_counts()"
   ],
   "metadata": {
    "collapsed": false,
    "ExecuteTime": {
     "end_time": "2024-09-06T20:20:48.203093600Z",
     "start_time": "2024-09-06T20:20:48.131567300Z"
    }
   },
   "id": "3f2f9142c771b223"
  },
  {
   "cell_type": "code",
   "execution_count": 93,
   "outputs": [],
   "source": [
    "# Save the modified DataFrame to a CSV file\n",
    "df_merged.to_csv('data_remodeled.csv', index=False)"
   ],
   "metadata": {
    "collapsed": false,
    "ExecuteTime": {
     "end_time": "2024-09-06T20:20:57.331119400Z",
     "start_time": "2024-09-06T20:20:54.272321800Z"
    }
   },
   "id": "3be257bd4a64834d"
  },
  {
   "cell_type": "code",
   "execution_count": 96,
   "outputs": [
    {
     "data": {
      "text/plain": "                      _id_x                                    id  index  \\\n0  66ba38692d4a508f96672224  7fd797d5-530c-4e27-bac7-8fa097c95abc     28   \n1  66ba38692d4a508f96672228  76ebbb25-3467-413b-8497-f3e38f998e57     32   \n2  66ba38692d4a508f9667224e  7a9e0311-6936-4f6d-aa56-90c0e6ff7b58     70   \n3  66ba38692d4a508f96672258  c970a836-e82c-4702-963a-b53ee7e29864     80   \n4  66ba38692d4a508f96672275  9567c2e9-b970-4b92-b4ae-7843a912906d    109   \n\n   period     timestamp  minute  second  type.id type.name  possession  ...  \\\n0       1  00:00:16.035       0      16       30      Pass           2  ...   \n1       1  00:00:17.549       0      17       30      Pass           2  ...   \n2       1  00:00:58.628       0      58       30      Pass           3  ...   \n3       1  00:01:05.668       1       5       30      Pass           4  ...   \n4       1  00:01:52.335       1      52       30      Pass           6  ...   \n\n   off_camera pass.backheel                     _id_y  \\\n0         NaN           NaN  66ba38692d4a508f9667329c   \n1         NaN           NaN  66ba38692d4a508f966732a0   \n2         NaN           NaN  66ba38692d4a508f966732bf   \n3         NaN           NaN  66ba38692d4a508f966732c9   \n4         NaN           NaN  66ba38692d4a508f966732e5   \n\n                             event_uuid  \\\n0  7fd797d5-530c-4e27-bac7-8fa097c95abc   \n1  76ebbb25-3467-413b-8497-f3e38f998e57   \n2  7a9e0311-6936-4f6d-aa56-90c0e6ff7b58   \n3  c970a836-e82c-4702-963a-b53ee7e29864   \n4  9567c2e9-b970-4b92-b4ae-7843a912906d   \n\n                                        visible_area  \\\n0  [43.65320519956768, 80.0, 49.578776831182864, ...   \n1  [48.176817444164826, 80.0, 52.193375619266625,...   \n2  [99.0442749628932, 80.0, 85.24408899496598, 80...   \n3  [12.955506538062423, 80.0, 38.901678469596696,...   \n4  [0.0, 80.0, 0.0, 38.73442253628191, 21.6711782...   \n\n                                        freeze_frame  match_id_y class_1  \\\n0  [{'teammate': True, 'actor': False, 'keeper': ...     3895302       1   \n1  [{'teammate': True, 'actor': False, 'keeper': ...     3895302      -1   \n2  [{'teammate': False, 'actor': False, 'keeper':...     3895302      -1   \n3  [{'teammate': True, 'actor': False, 'keeper': ...     3895302      -1   \n4  [{'teammate': True, 'actor': False, 'keeper': ...     3895302       1   \n\n   class_2 class_3  \n0        0     0.0  \n1        1    -1.0  \n2        1    -1.0  \n3        1    -1.0  \n4        1     1.0  \n\n[5 rows x 70 columns]",
      "text/html": "<div>\n<style scoped>\n    .dataframe tbody tr th:only-of-type {\n        vertical-align: middle;\n    }\n\n    .dataframe tbody tr th {\n        vertical-align: top;\n    }\n\n    .dataframe thead th {\n        text-align: right;\n    }\n</style>\n<table border=\"1\" class=\"dataframe\">\n  <thead>\n    <tr style=\"text-align: right;\">\n      <th></th>\n      <th>_id_x</th>\n      <th>id</th>\n      <th>index</th>\n      <th>period</th>\n      <th>timestamp</th>\n      <th>minute</th>\n      <th>second</th>\n      <th>type.id</th>\n      <th>type.name</th>\n      <th>possession</th>\n      <th>...</th>\n      <th>off_camera</th>\n      <th>pass.backheel</th>\n      <th>_id_y</th>\n      <th>event_uuid</th>\n      <th>visible_area</th>\n      <th>freeze_frame</th>\n      <th>match_id_y</th>\n      <th>class_1</th>\n      <th>class_2</th>\n      <th>class_3</th>\n    </tr>\n  </thead>\n  <tbody>\n    <tr>\n      <th>0</th>\n      <td>66ba38692d4a508f96672224</td>\n      <td>7fd797d5-530c-4e27-bac7-8fa097c95abc</td>\n      <td>28</td>\n      <td>1</td>\n      <td>00:00:16.035</td>\n      <td>0</td>\n      <td>16</td>\n      <td>30</td>\n      <td>Pass</td>\n      <td>2</td>\n      <td>...</td>\n      <td>NaN</td>\n      <td>NaN</td>\n      <td>66ba38692d4a508f9667329c</td>\n      <td>7fd797d5-530c-4e27-bac7-8fa097c95abc</td>\n      <td>[43.65320519956768, 80.0, 49.578776831182864, ...</td>\n      <td>[{'teammate': True, 'actor': False, 'keeper': ...</td>\n      <td>3895302</td>\n      <td>1</td>\n      <td>0</td>\n      <td>0.0</td>\n    </tr>\n    <tr>\n      <th>1</th>\n      <td>66ba38692d4a508f96672228</td>\n      <td>76ebbb25-3467-413b-8497-f3e38f998e57</td>\n      <td>32</td>\n      <td>1</td>\n      <td>00:00:17.549</td>\n      <td>0</td>\n      <td>17</td>\n      <td>30</td>\n      <td>Pass</td>\n      <td>2</td>\n      <td>...</td>\n      <td>NaN</td>\n      <td>NaN</td>\n      <td>66ba38692d4a508f966732a0</td>\n      <td>76ebbb25-3467-413b-8497-f3e38f998e57</td>\n      <td>[48.176817444164826, 80.0, 52.193375619266625,...</td>\n      <td>[{'teammate': True, 'actor': False, 'keeper': ...</td>\n      <td>3895302</td>\n      <td>-1</td>\n      <td>1</td>\n      <td>-1.0</td>\n    </tr>\n    <tr>\n      <th>2</th>\n      <td>66ba38692d4a508f9667224e</td>\n      <td>7a9e0311-6936-4f6d-aa56-90c0e6ff7b58</td>\n      <td>70</td>\n      <td>1</td>\n      <td>00:00:58.628</td>\n      <td>0</td>\n      <td>58</td>\n      <td>30</td>\n      <td>Pass</td>\n      <td>3</td>\n      <td>...</td>\n      <td>NaN</td>\n      <td>NaN</td>\n      <td>66ba38692d4a508f966732bf</td>\n      <td>7a9e0311-6936-4f6d-aa56-90c0e6ff7b58</td>\n      <td>[99.0442749628932, 80.0, 85.24408899496598, 80...</td>\n      <td>[{'teammate': False, 'actor': False, 'keeper':...</td>\n      <td>3895302</td>\n      <td>-1</td>\n      <td>1</td>\n      <td>-1.0</td>\n    </tr>\n    <tr>\n      <th>3</th>\n      <td>66ba38692d4a508f96672258</td>\n      <td>c970a836-e82c-4702-963a-b53ee7e29864</td>\n      <td>80</td>\n      <td>1</td>\n      <td>00:01:05.668</td>\n      <td>1</td>\n      <td>5</td>\n      <td>30</td>\n      <td>Pass</td>\n      <td>4</td>\n      <td>...</td>\n      <td>NaN</td>\n      <td>NaN</td>\n      <td>66ba38692d4a508f966732c9</td>\n      <td>c970a836-e82c-4702-963a-b53ee7e29864</td>\n      <td>[12.955506538062423, 80.0, 38.901678469596696,...</td>\n      <td>[{'teammate': True, 'actor': False, 'keeper': ...</td>\n      <td>3895302</td>\n      <td>-1</td>\n      <td>1</td>\n      <td>-1.0</td>\n    </tr>\n    <tr>\n      <th>4</th>\n      <td>66ba38692d4a508f96672275</td>\n      <td>9567c2e9-b970-4b92-b4ae-7843a912906d</td>\n      <td>109</td>\n      <td>1</td>\n      <td>00:01:52.335</td>\n      <td>1</td>\n      <td>52</td>\n      <td>30</td>\n      <td>Pass</td>\n      <td>6</td>\n      <td>...</td>\n      <td>NaN</td>\n      <td>NaN</td>\n      <td>66ba38692d4a508f966732e5</td>\n      <td>9567c2e9-b970-4b92-b4ae-7843a912906d</td>\n      <td>[0.0, 80.0, 0.0, 38.73442253628191, 21.6711782...</td>\n      <td>[{'teammate': True, 'actor': False, 'keeper': ...</td>\n      <td>3895302</td>\n      <td>1</td>\n      <td>1</td>\n      <td>1.0</td>\n    </tr>\n  </tbody>\n</table>\n<p>5 rows × 70 columns</p>\n</div>"
     },
     "execution_count": 96,
     "metadata": {},
     "output_type": "execute_result"
    }
   ],
   "source": [
    "df_merged.head()"
   ],
   "metadata": {
    "collapsed": false,
    "ExecuteTime": {
     "end_time": "2024-09-06T20:21:13.878788200Z",
     "start_time": "2024-09-06T20:21:13.693471200Z"
    }
   },
   "id": "108db788106a5520"
  }
 ],
 "metadata": {
  "kernelspec": {
   "display_name": "Python 3",
   "language": "python",
   "name": "python3"
  },
  "language_info": {
   "codemirror_mode": {
    "name": "ipython",
    "version": 2
   },
   "file_extension": ".py",
   "mimetype": "text/x-python",
   "name": "python",
   "nbconvert_exporter": "python",
   "pygments_lexer": "ipython2",
   "version": "2.7.6"
  }
 },
 "nbformat": 4,
 "nbformat_minor": 5
}
